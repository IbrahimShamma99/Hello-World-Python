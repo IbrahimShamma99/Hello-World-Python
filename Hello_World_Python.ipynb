{
  "nbformat": 4,
  "nbformat_minor": 0,
  "metadata": {
    "kernelspec": {
      "display_name": "Python 3",
      "language": "python",
      "name": "python3"
    },
    "language_info": {
      "codemirror_mode": {
        "name": "ipython",
        "version": 3
      },
      "file_extension": ".py",
      "mimetype": "text/x-python",
      "name": "python",
      "nbconvert_exporter": "python",
      "pygments_lexer": "ipython3",
      "version": "3.7.1"
    },
    "colab": {
      "name": "Hello World Python.ipynb",
      "provenance": [],
      "collapsed_sections": []
    }
  },
  "cells": [
    {
      "cell_type": "code",
      "metadata": {
        "id": "dwNhuB98bzOe",
        "colab_type": "code",
        "colab": {},
        "outputId": "dd03587d-ca3e-476c-b531-ff8d4caeea5d"
      },
      "source": [
        "#Your first python line of code YAAHOO !\n",
        "print('Hello Python world!')"
      ],
      "execution_count": 0,
      "outputs": [
        {
          "output_type": "stream",
          "text": [
            "Hello Python world!\n"
          ],
          "name": "stdout"
        }
      ]
    },
    {
      "cell_type": "markdown",
      "metadata": {
        "id": "QqB0ecMebzOs",
        "colab_type": "text"
      },
      "source": [
        "*If* it works, congratulations! You just ran your first Python program."
      ]
    },
    {
      "cell_type": "markdown",
      "metadata": {
        "id": "dLwbSmSwbzOz",
        "colab_type": "text"
      },
      "source": [
        "- variables "
      ]
    },
    {
      "cell_type": "code",
      "metadata": {
        "id": "dEnJzjJMbzO0",
        "colab_type": "code",
        "colab": {},
        "outputId": "3af3979d-0390-4e1f-d549-8cdc7fb90b12"
      },
      "source": [
        "#trying to store the message into a variable before printing it out\n",
        "message = \"Hello Python world!\"\n",
        "print(message)\n",
        "\n",
        "message = \"Python is my favorite language!\"\n",
        "print(message)"
      ],
      "execution_count": 0,
      "outputs": [
        {
          "output_type": "stream",
          "text": [
            "Hello Python world!\n",
            "Python is my favorite language!\n"
          ],
          "name": "stdout"
        }
      ]
    },
    {
      "cell_type": "code",
      "metadata": {
        "id": "YuXpwNlQbzO9",
        "colab_type": "code",
        "colab": {}
      },
      "source": [
        "my_string = \"This is a double-quoted string.\"\n",
        "my_string = 'This is a single-quoted string.'"
      ],
      "execution_count": 0,
      "outputs": []
    },
    {
      "cell_type": "code",
      "metadata": {
        "id": "-TY4dqGXbzPI",
        "colab_type": "code",
        "colab": {}
      },
      "source": [
        "quote = \"Linus Torvalds once said, \\\n",
        "         'Any program is only as good as it is useful.'\""
      ],
      "execution_count": 0,
      "outputs": []
    },
    {
      "cell_type": "markdown",
      "metadata": {
        "id": "8ozv_9RJbzPP",
        "colab_type": "text"
      },
      "source": [
        "MATH"
      ]
    },
    {
      "cell_type": "code",
      "metadata": {
        "id": "S4DyoU63bzPQ",
        "colab_type": "code",
        "colab": {},
        "outputId": "20e12d68-8878-4c18-997a-f5f9e49fac43"
      },
      "source": [
        "#sum\n",
        "2+3"
      ],
      "execution_count": 0,
      "outputs": [
        {
          "output_type": "execute_result",
          "data": {
            "text/plain": [
              "5"
            ]
          },
          "metadata": {
            "tags": []
          },
          "execution_count": 4
        }
      ]
    },
    {
      "cell_type": "code",
      "metadata": {
        "id": "UkMrfZf6bzPY",
        "colab_type": "code",
        "colab": {},
        "outputId": "33ad1533-9801-418b-f98e-bfe417bdfe6b"
      },
      "source": [
        "#subtract \n",
        "2-6"
      ],
      "execution_count": 0,
      "outputs": [
        {
          "output_type": "execute_result",
          "data": {
            "text/plain": [
              "-4"
            ]
          },
          "metadata": {
            "tags": []
          },
          "execution_count": 5
        }
      ]
    },
    {
      "cell_type": "code",
      "metadata": {
        "id": "R4U_QAWvbzPd",
        "colab_type": "code",
        "colab": {},
        "outputId": "94378c01-7ba5-4b0a-b586-01435be6414f"
      },
      "source": [
        "#multiply \n",
        "5*8"
      ],
      "execution_count": 0,
      "outputs": [
        {
          "output_type": "execute_result",
          "data": {
            "text/plain": [
              "40"
            ]
          },
          "metadata": {
            "tags": []
          },
          "execution_count": 6
        }
      ]
    },
    {
      "cell_type": "code",
      "metadata": {
        "id": "02mhoj4JbzPm",
        "colab_type": "code",
        "colab": {},
        "outputId": "6c8010ca-63f2-4f2c-921d-00df8f4dc163"
      },
      "source": [
        "#division \n",
        "4/2"
      ],
      "execution_count": 0,
      "outputs": [
        {
          "output_type": "execute_result",
          "data": {
            "text/plain": [
              "2.0"
            ]
          },
          "metadata": {
            "tags": []
          },
          "execution_count": 9
        }
      ]
    },
    {
      "cell_type": "code",
      "metadata": {
        "id": "lgX1zQKtbzPs",
        "colab_type": "code",
        "colab": {},
        "outputId": "6769a559-ea63-4200-af51-ba39f6301b12"
      },
      "source": [
        "#power \n",
        "4**2"
      ],
      "execution_count": 0,
      "outputs": [
        {
          "output_type": "execute_result",
          "data": {
            "text/plain": [
              "16"
            ]
          },
          "metadata": {
            "tags": []
          },
          "execution_count": 1
        }
      ]
    },
    {
      "cell_type": "markdown",
      "metadata": {
        "id": "vRipPyaPbzPz",
        "colab_type": "text"
      },
      "source": [
        "# -Lists"
      ]
    },
    {
      "cell_type": "code",
      "metadata": {
        "id": "D8MHatgpbzP1",
        "colab_type": "code",
        "colab": {}
      },
      "source": [
        "grades = ['A', 'B+', 'B']"
      ],
      "execution_count": 0,
      "outputs": []
    },
    {
      "cell_type": "code",
      "metadata": {
        "id": "JDCEXBEfbzP7",
        "colab_type": "code",
        "colab": {},
        "outputId": "d2d9fc76-4f4d-4626-b4e0-74f0fe5947b4"
      },
      "source": [
        "count = len(grades)\n",
        "print(count)"
      ],
      "execution_count": 0,
      "outputs": [
        {
          "output_type": "stream",
          "text": [
            "3\n"
          ],
          "name": "stdout"
        }
      ]
    },
    {
      "cell_type": "code",
      "metadata": {
        "id": "MjZHkUDMbzQC",
        "colab_type": "code",
        "colab": {},
        "outputId": "d2a36d50-88d3-44b6-9802-e0666c6051aa"
      },
      "source": [
        "grades.append('B-')\n",
        "count = len(grades)\n",
        "print(\"the list's elements are : {}\".format(grades))\n",
        "print('the length of the list is : {}'.format(count))"
      ],
      "execution_count": 0,
      "outputs": [
        {
          "output_type": "stream",
          "text": [
            "the list's elements are : ['A', 'B+', 'B', 'B-']\n",
            "the length of the list is : 4\n"
          ],
          "name": "stdout"
        }
      ]
    },
    {
      "cell_type": "code",
      "metadata": {
        "id": "qmWVcIKCbzQI",
        "colab_type": "code",
        "colab": {},
        "outputId": "1b73d91f-954f-49dc-c962-9c2a3c07186a"
      },
      "source": [
        "grades[0]"
      ],
      "execution_count": 0,
      "outputs": [
        {
          "output_type": "execute_result",
          "data": {
            "text/plain": [
              "'A'"
            ]
          },
          "metadata": {
            "tags": []
          },
          "execution_count": 17
        }
      ]
    },
    {
      "cell_type": "code",
      "metadata": {
        "id": "lLvZrrHRbzQO",
        "colab_type": "code",
        "colab": {},
        "outputId": "c4720442-7a3a-448c-f28c-ed9dab48ffc4"
      },
      "source": [
        "grades[:]"
      ],
      "execution_count": 0,
      "outputs": [
        {
          "output_type": "execute_result",
          "data": {
            "text/plain": [
              "['A', 'B+', 'B', 'B-']"
            ]
          },
          "metadata": {
            "tags": []
          },
          "execution_count": 18
        }
      ]
    },
    {
      "cell_type": "markdown",
      "metadata": {
        "id": "gDhE69PKbzQU",
        "colab_type": "text"
      },
      "source": [
        "# LOOPS"
      ]
    },
    {
      "cell_type": "code",
      "metadata": {
        "id": "BC1jyJNNbzQY",
        "colab_type": "code",
        "colab": {},
        "outputId": "873a9327-cd9c-4878-d563-615a36f1f524"
      },
      "source": [
        "cities = ['NewYork', 'Amman','Berlin']\n",
        "\n",
        "for city in cities:\n",
        "    print(city)"
      ],
      "execution_count": 0,
      "outputs": [
        {
          "output_type": "stream",
          "text": [
            "Amman\n",
            "zarqa\n",
            "irbid\n"
          ],
          "name": "stdout"
        }
      ]
    },
    {
      "cell_type": "code",
      "metadata": {
        "id": "JhqHE2d6bzQb",
        "colab_type": "code",
        "colab": {},
        "outputId": "7a900902-6b8e-4e6c-81ed-8fc6a70a0698"
      },
      "source": [
        "# range(i , n , j) returns a list of numbers that goes from i to n with step value of j\n",
        "for number in range(1,11):\n",
        "    print(number)"
      ],
      "execution_count": 0,
      "outputs": [
        {
          "output_type": "stream",
          "text": [
            "1\n",
            "2\n",
            "3\n",
            "4\n",
            "5\n",
            "6\n",
            "7\n",
            "8\n",
            "9\n",
            "10\n"
          ],
          "name": "stdout"
        }
      ]
    },
    {
      "cell_type": "markdown",
      "metadata": {
        "id": "ibrqx1VYcodx",
        "colab_type": "text"
      },
      "source": [
        "#IF STATEMENTS\n"
      ]
    },
    {
      "cell_type": "code",
      "metadata": {
        "id": "SN5Zil9_bzQi",
        "colab_type": "code",
        "colab": {},
        "outputId": "d2c965b8-b1f4-48d0-bcdf-dd42f8ff1fd1"
      },
      "source": [
        "string = 'World'\n",
        "\n",
        "if len(string) >= 5:\n",
        "    print(\"long\")\n",
        "elif len(dogs) >= 3:\n",
        "    print(\"medium\")\n",
        "elif len(dogs) >= 1:\n",
        "    print(\"short\")"
      ],
      "execution_count": 0,
      "outputs": [
        {
          "output_type": "stream",
          "text": [
            "long\n"
          ],
          "name": "stdout"
        }
      ]
    },
    {
      "cell_type": "code",
      "metadata": {
        "id": "XsxX-0qYbzQm",
        "colab_type": "code",
        "colab": {},
        "outputId": "dfb3090d-3751-493d-c473-4c9d3738f6d5"
      },
      "source": [
        "names = ['lisa',  'sia', 'hala','ali']\n",
        "for i in range(len(names)):\n",
        "    if len(names[i]) > 3:\n",
        "        print(\"{} is a long name\".format(names[i]))\n",
        "    else:\n",
        "        print(\"{} is a short name\".format(names[i]))\n",
        "    "
      ],
      "execution_count": 0,
      "outputs": [
        {
          "output_type": "stream",
          "text": [
            "lisa is a long name\n",
            "sia is a short name\n",
            "hala is a long name\n",
            "ali is a short name\n"
          ],
          "name": "stdout"
        }
      ]
    },
    {
      "cell_type": "markdown",
      "metadata": {
        "id": "tlcMTRMubzQr",
        "colab_type": "text"
      },
      "source": [
        "# BECOME FUNCTIONAL PROGRAMMER"
      ]
    },
    {
      "cell_type": "code",
      "metadata": {
        "id": "p0bj1hRBbzQt",
        "colab_type": "code",
        "colab": {},
        "outputId": "9cf5937a-c831-410a-d7c4-59c34ef35207"
      },
      "source": [
        "# Let's define a function.\n",
        "def function_name():\n",
        "    print('Hello World')\n",
        "\n",
        "# Use function_name to call the function.\n",
        "function_name()"
      ],
      "execution_count": 0,
      "outputs": [
        {
          "output_type": "stream",
          "text": [
            "Hello World\n"
          ],
          "name": "stdout"
        }
      ]
    },
    {
      "cell_type": "code",
      "metadata": {
        "id": "MOyLZmdubzQy",
        "colab_type": "code",
        "colab": {}
      },
      "source": [
        "def show_students(students, message):\n",
        "    # Print out a message, and then the list of students\n",
        "    print(message)\n",
        "    for student in students:\n",
        "        print(\"- \" + student.title())\n"
      ],
      "execution_count": 0,
      "outputs": []
    },
    {
      "cell_type": "code",
      "metadata": {
        "id": "F7luZj_CbzQ3",
        "colab_type": "code",
        "colab": {},
        "outputId": "abd66210-50e6-4ebd-9ccb-cd76a4ecd44b"
      },
      "source": [
        "show_students(['ahmad','ibrahim','haya'],'work hard or you will Fail !! ')"
      ],
      "execution_count": 0,
      "outputs": [
        {
          "output_type": "stream",
          "text": [
            "work hard or you will Fail !! \n",
            "- Ahmad\n",
            "- Ibrahim\n",
            "- Haya\n"
          ],
          "name": "stdout"
        }
      ]
    },
    {
      "cell_type": "code",
      "metadata": {
        "id": "k7JUS-qebzQ8",
        "colab_type": "code",
        "colab": {}
      },
      "source": [
        "def get_number_word(number):\n",
        "    # Takes in a numerical value, and returns\n",
        "    #  the word corresponding to that number.\n",
        "    if number == 1:\n",
        "        return 'one'\n",
        "    elif number == 2:\n",
        "        return 'two'\n",
        "    elif number == 3:\n",
        "        return 'three'"
      ],
      "execution_count": 0,
      "outputs": []
    },
    {
      "cell_type": "code",
      "metadata": {
        "id": "zz3pq8AFbzRA",
        "colab_type": "code",
        "colab": {},
        "outputId": "59bc58f8-e7ca-40ab-b91c-12b1a18f539f"
      },
      "source": [
        "get_number_word(1)"
      ],
      "execution_count": 0,
      "outputs": [
        {
          "output_type": "execute_result",
          "data": {
            "text/plain": [
              "'one'"
            ]
          },
          "metadata": {
            "tags": []
          },
          "execution_count": 43
        }
      ]
    },
    {
      "cell_type": "code",
      "metadata": {
        "id": "U03PlGS4bzRD",
        "colab_type": "code",
        "colab": {},
        "outputId": "6502463e-2194-43a8-8602-d2b89b9697e9"
      },
      "source": [
        "def adder(num_1, num_2, *nums):\n",
        "    # This function adds the given numbers together,\n",
        "    #  and prints the sum.\n",
        "    \n",
        "    # Start by adding the first two numbers, which\n",
        "    #  will always be present.\n",
        "    sum = num_1 + num_2\n",
        "    \n",
        "    # Then add any other numbers that were sent.\n",
        "    for num in nums:\n",
        "        sum = sum + num\n",
        "        \n",
        "    # Print the results.\n",
        "    print(\"The sum of your numbers is %d.\" % sum)\n",
        "\n",
        "    \n",
        "# Let's add some numbers.\n",
        "adder(1, 2)\n",
        "adder(1, 2, 3)\n",
        "adder(1, 2, 3, 4)\n",
        "adder(1, 2, 3, 4, 5)"
      ],
      "execution_count": 0,
      "outputs": [
        {
          "output_type": "stream",
          "text": [
            "The sum of your numbers is 3.\n",
            "The sum of your numbers is 6.\n",
            "The sum of your numbers is 10.\n",
            "The sum of your numbers is 15.\n"
          ],
          "name": "stdout"
        }
      ]
    },
    {
      "cell_type": "code",
      "metadata": {
        "id": "iP5KRbc4bzRH",
        "colab_type": "code",
        "colab": {}
      },
      "source": [
        "    "
      ],
      "execution_count": 0,
      "outputs": []
    }
  ]
}